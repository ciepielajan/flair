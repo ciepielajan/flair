{
  "nbformat": 4,
  "nbformat_minor": 0,
  "metadata": {
    "colab": {
      "name": "flair-test.ipynb",
      "provenance": [],
      "collapsed_sections": []
    },
    "kernelspec": {
      "name": "python3",
      "display_name": "Python 3"
    },
    "language_info": {
      "name": "python"
    }
  },
  "cells": [
    {
      "cell_type": "code",
      "source": [
        "import torch\n",
        "print(torch.__version__)\n",
        "print(torch.version.cuda)"
      ],
      "metadata": {
        "colab": {
          "base_uri": "https://localhost:8080/"
        },
        "id": "uxTNdI6omAOH",
        "outputId": "8d38a2cf-129b-4a45-be48-948bff68603b"
      },
      "execution_count": 5,
      "outputs": [
        {
          "output_type": "stream",
          "name": "stdout",
          "text": [
            "1.11.0+cu113\n",
            "11.3\n"
          ]
        }
      ]
    },
    {
      "cell_type": "code",
      "source": [
        "!nvcc -V"
      ],
      "metadata": {
        "colab": {
          "base_uri": "https://localhost:8080/"
        },
        "id": "kq4ScRR-mFLb",
        "outputId": "fe4e1512-f934-4900-cf3e-d64e01283418"
      },
      "execution_count": 6,
      "outputs": [
        {
          "output_type": "stream",
          "name": "stdout",
          "text": [
            "nvcc: NVIDIA (R) Cuda compiler driver\n",
            "Copyright (c) 2005-2020 NVIDIA Corporation\n",
            "Built on Mon_Oct_12_20:09:46_PDT_2020\n",
            "Cuda compilation tools, release 11.1, V11.1.105\n",
            "Build cuda_11.1.TC455_06.29190527_0\n"
          ]
        }
      ]
    },
    {
      "cell_type": "code",
      "execution_count": 7,
      "metadata": {
        "colab": {
          "base_uri": "https://localhost:8080/"
        },
        "id": "zKW973eN7ZNg",
        "outputId": "cc149fde-9c03-43f2-f291-5b9d32691441"
      },
      "outputs": [
        {
          "output_type": "stream",
          "name": "stdout",
          "text": [
            "\u001b[K     |████████████████████████████████| 401 kB 5.3 MB/s \n",
            "\u001b[K     |████████████████████████████████| 788 kB 34.9 MB/s \n",
            "\u001b[K     |████████████████████████████████| 4.4 MB 41.1 MB/s \n",
            "\u001b[K     |████████████████████████████████| 1.6 MB 27.3 MB/s \n",
            "\u001b[K     |████████████████████████████████| 981 kB 61.7 MB/s \n",
            "\u001b[K     |████████████████████████████████| 53 kB 1.8 MB/s \n",
            "\u001b[K     |████████████████████████████████| 1.2 MB 57.0 MB/s \n",
            "\u001b[K     |████████████████████████████████| 19.7 MB 1.3 MB/s \n",
            "\u001b[K     |████████████████████████████████| 86 kB 4.4 MB/s \n",
            "\u001b[K     |████████████████████████████████| 46 kB 4.2 MB/s \n",
            "\u001b[K     |████████████████████████████████| 199 kB 64.9 MB/s \n",
            "\u001b[K     |████████████████████████████████| 62 kB 1.4 MB/s \n",
            "\u001b[K     |████████████████████████████████| 596 kB 66.8 MB/s \n",
            "\u001b[K     |████████████████████████████████| 6.6 MB 30.9 MB/s \n",
            "\u001b[?25h  Building wheel for mpld3 (setup.py) ... \u001b[?25l\u001b[?25hdone\n",
            "  Building wheel for overrides (setup.py) ... \u001b[?25l\u001b[?25hdone\n",
            "  Building wheel for sqlitedict (setup.py) ... \u001b[?25l\u001b[?25hdone\n",
            "  Building wheel for langdetect (setup.py) ... \u001b[?25l\u001b[?25hdone\n",
            "  Building wheel for pptree (setup.py) ... \u001b[?25l\u001b[?25hdone\n",
            "  Building wheel for wikipedia-api (setup.py) ... \u001b[?25l\u001b[?25hdone\n",
            "\u001b[31mERROR: pip's dependency resolver does not currently take into account all the packages that are installed. This behaviour is the source of the following dependency conflicts.\n",
            "markdown 3.3.7 requires importlib-metadata>=4.4; python_version < \"3.10\", but you have importlib-metadata 3.10.1 which is incompatible.\n",
            "google-colab 1.0.0 requires requests~=2.23.0, but you have requests 2.28.0 which is incompatible.\n",
            "datascience 0.10.6 requires folium==0.2.1, but you have folium 0.8.3 which is incompatible.\u001b[0m\n"
          ]
        }
      ],
      "source": [
        "!pip install -q flair"
      ]
    },
    {
      "cell_type": "code",
      "source": [
        "import flair\n",
        "import pandas as pd\n",
        "import numpy as np"
      ],
      "metadata": {
        "id": "eW5o7rZJ7d9o"
      },
      "execution_count": 8,
      "outputs": []
    },
    {
      "cell_type": "code",
      "source": [
        "from flair.embeddings import WordEmbeddings, DocumentPoolEmbeddings\n",
        "\n",
        "# initialize the word embeddings\n",
        "glove_embedding = WordEmbeddings('pl')\n",
        "glove_embedding"
      ],
      "metadata": {
        "colab": {
          "base_uri": "https://localhost:8080/"
        },
        "id": "n38-sGL47i5S",
        "outputId": "77937900-7469-4592-9c9e-e38e25d2d8d3"
      },
      "execution_count": 9,
      "outputs": [
        {
          "output_type": "stream",
          "name": "stdout",
          "text": [
            "2022-06-16 17:43:16,740 https://flair.informatik.hu-berlin.de/resources/embeddings/token/pl-wiki-fasttext-300d-1M.vectors.npy not found in cache, downloading to /tmp/tmpyu5hkj6f\n"
          ]
        },
        {
          "output_type": "stream",
          "name": "stderr",
          "text": [
            "100%|██████████| 1199998928/1199998928 [00:49<00:00, 24450200.51B/s]"
          ]
        },
        {
          "output_type": "stream",
          "name": "stdout",
          "text": [
            "2022-06-16 17:44:06,224 copying /tmp/tmpyu5hkj6f to cache at /root/.flair/embeddings/pl-wiki-fasttext-300d-1M.vectors.npy\n"
          ]
        },
        {
          "output_type": "stream",
          "name": "stderr",
          "text": [
            "\n"
          ]
        },
        {
          "output_type": "stream",
          "name": "stdout",
          "text": [
            "2022-06-16 17:44:10,324 removing temp file /tmp/tmpyu5hkj6f\n",
            "2022-06-16 17:44:10,984 https://flair.informatik.hu-berlin.de/resources/embeddings/token/pl-wiki-fasttext-300d-1M not found in cache, downloading to /tmp/tmp9tzuhpd2\n"
          ]
        },
        {
          "output_type": "stream",
          "name": "stderr",
          "text": [
            "100%|██████████| 40874795/40874795 [00:02<00:00, 17348163.37B/s]"
          ]
        },
        {
          "output_type": "stream",
          "name": "stdout",
          "text": [
            "2022-06-16 17:44:13,731 copying /tmp/tmp9tzuhpd2 to cache at /root/.flair/embeddings/pl-wiki-fasttext-300d-1M\n",
            "2022-06-16 17:44:13,783 removing temp file /tmp/tmp9tzuhpd2\n"
          ]
        },
        {
          "output_type": "stream",
          "name": "stderr",
          "text": [
            "\n"
          ]
        },
        {
          "output_type": "execute_result",
          "data": {
            "text/plain": [
              "WordEmbeddings(\n",
              "  'pl'\n",
              "  (embedding): Embedding(1000000, 300)\n",
              ")"
            ]
          },
          "metadata": {},
          "execution_count": 9
        }
      ]
    },
    {
      "cell_type": "code",
      "source": [
        "# initialize the document embeddings, mode = mean\n",
        "document_embeddings = DocumentPoolEmbeddings([glove_embedding])\n",
        "document_embeddings"
      ],
      "metadata": {
        "colab": {
          "base_uri": "https://localhost:8080/"
        },
        "id": "DD5XeneV8XzF",
        "outputId": "17942516-cfd9-44d8-a75d-acc936e75deb"
      },
      "execution_count": 10,
      "outputs": [
        {
          "output_type": "execute_result",
          "data": {
            "text/plain": [
              "DocumentPoolEmbeddings(\n",
              "  fine_tune_mode=none, pooling=mean\n",
              "  (embeddings): StackedEmbeddings(\n",
              "    (list_embedding_0): WordEmbeddings(\n",
              "      'pl'\n",
              "      (embedding): Embedding(1000000, 300)\n",
              "    )\n",
              "  )\n",
              ")"
            ]
          },
          "metadata": {},
          "execution_count": 10
        }
      ]
    },
    {
      "cell_type": "code",
      "source": [
        "# create an example sentence\n",
        "from flair.data import Sentence\n",
        "sentence = Sentence('Janek weź się w końcu ogarnij.')\n",
        "print(f\"sentence: {sentence}\")\n",
        "for token in sentence.tokens:\n",
        "    print(token)\n",
        "\n",
        "print(f\"konkretny token: {sentence.get_token(3)}\")"
      ],
      "metadata": {
        "colab": {
          "base_uri": "https://localhost:8080/"
        },
        "id": "Za5qikr08a-v",
        "outputId": "492c7625-bba8-4932-b92e-9bc4b92863ac"
      },
      "execution_count": 11,
      "outputs": [
        {
          "output_type": "stream",
          "name": "stdout",
          "text": [
            "sentence: Sentence: \"Janek weź się w końcu ogarnij .\"\n",
            "Token[0]: \"Janek\"\n",
            "Token[1]: \"weź\"\n",
            "Token[2]: \"się\"\n",
            "Token[3]: \"w\"\n",
            "Token[4]: \"końcu\"\n",
            "Token[5]: \"ogarnij\"\n",
            "Token[6]: \".\"\n",
            "konkretny token: Token[2]: \"się\"\n"
          ]
        }
      ]
    },
    {
      "cell_type": "code",
      "source": [
        "# embed the sentence with our document embedding\n",
        "document_embeddings.embed(sentence)"
      ],
      "metadata": {
        "id": "xJA6beOL8hBn"
      },
      "execution_count": 12,
      "outputs": []
    },
    {
      "cell_type": "code",
      "source": [
        "import random \n",
        "def split(df, test_fraction, grouping_var, seed=1234, verbose=True):\n",
        "    \"\"\"Used to avoid having scans from the same cases in both train and test sets\"\"\"\n",
        "    frac = int(len(set(df[grouping_var])) * test_fraction)\n",
        "    random.seed(seed)\n",
        "    test_cases = random.sample(set(df[grouping_var]), frac)\n",
        "    test_mask = df[grouping_var].isin(test_cases)\n",
        "\n",
        "    X_train = df.text[~test_mask]\n",
        "    y_train = df.img_class[~test_mask]\n",
        "    X_test = df.text[test_mask]\n",
        "    y_test = df.img_class[test_mask]\n",
        "\n",
        "    if verbose:\n",
        "        logging.info(f\"Test fraction: {round(len(X_test)/len(df), 2)}\")\n",
        "\n",
        "    return X_train, X_test, y_train, y_test, test_mask"
      ],
      "metadata": {
        "id": "MorfMvLG_5uO"
      },
      "execution_count": 63,
      "outputs": []
    },
    {
      "cell_type": "code",
      "source": [
        ""
      ],
      "metadata": {
        "id": "Z0O5aAJQYuP2"
      },
      "execution_count": null,
      "outputs": []
    },
    {
      "cell_type": "code",
      "source": [
        "df = pd.read_csv(\"df.csv\",index_col=\"Unnamed: 0\")\n",
        "print(df.shape)\n",
        "df[:3]"
      ],
      "metadata": {
        "colab": {
          "base_uri": "https://localhost:8080/",
          "height": 161
        },
        "id": "-hWdzynwA4wG",
        "outputId": "6071bc4f-93f9-4bb5-be4a-970ed49cff19"
      },
      "execution_count": 86,
      "outputs": [
        {
          "output_type": "stream",
          "name": "stdout",
          "text": [
            "(867, 5)\n"
          ]
        },
        {
          "output_type": "execute_result",
          "data": {
            "text/plain": [
              "     case                                           img_name  \\\n",
              "0  430518  430518_medicalCertificateConfirmingTheCompleti...   \n",
              "1  430518              430518_medicalDocumentatnionFile_1__0   \n",
              "2  430518              430518_medicalDocumentatnionFile_2__0   \n",
              "\n",
              "                                           img_label  \\\n",
              "0  Zaświadczenie lekarskie / rehabilitacyjne, w t...   \n",
              "1              Karta informacyjna z SOR/Izby Przyjęć   \n",
              "2                            Wyniki badań obrazowych   \n",
              "\n",
              "                                       img_class  \\\n",
              "0                        Zaświadczenie lekarskie   \n",
              "1                               SOR/Izba Przyjęć   \n",
              "2  Wyniki badań obrazowych i histopatologicznych   \n",
              "\n",
              "                                                text  \n",
              "0  o 46 06 VEZ 750 XJ YBAM dYdOLNYY MZ DUQ 412  e...  \n",
              "1  POWÓD ODMOWY  WYDANE DRUKI ne  Potwierdzam odb...  \n",
              "2  zm  WP BP  NNP DPD o  ŁZA  LJ x Wojewódzki Szp...  "
            ],
            "text/html": [
              "\n",
              "  <div id=\"df-56c752d2-a980-4d8d-8637-84d574f5d2ca\">\n",
              "    <div class=\"colab-df-container\">\n",
              "      <div>\n",
              "<style scoped>\n",
              "    .dataframe tbody tr th:only-of-type {\n",
              "        vertical-align: middle;\n",
              "    }\n",
              "\n",
              "    .dataframe tbody tr th {\n",
              "        vertical-align: top;\n",
              "    }\n",
              "\n",
              "    .dataframe thead th {\n",
              "        text-align: right;\n",
              "    }\n",
              "</style>\n",
              "<table border=\"1\" class=\"dataframe\">\n",
              "  <thead>\n",
              "    <tr style=\"text-align: right;\">\n",
              "      <th></th>\n",
              "      <th>case</th>\n",
              "      <th>img_name</th>\n",
              "      <th>img_label</th>\n",
              "      <th>img_class</th>\n",
              "      <th>text</th>\n",
              "    </tr>\n",
              "  </thead>\n",
              "  <tbody>\n",
              "    <tr>\n",
              "      <th>0</th>\n",
              "      <td>430518</td>\n",
              "      <td>430518_medicalCertificateConfirmingTheCompleti...</td>\n",
              "      <td>Zaświadczenie lekarskie / rehabilitacyjne, w t...</td>\n",
              "      <td>Zaświadczenie lekarskie</td>\n",
              "      <td>o 46 06 VEZ 750 XJ YBAM dYdOLNYY MZ DUQ 412  e...</td>\n",
              "    </tr>\n",
              "    <tr>\n",
              "      <th>1</th>\n",
              "      <td>430518</td>\n",
              "      <td>430518_medicalDocumentatnionFile_1__0</td>\n",
              "      <td>Karta informacyjna z SOR/Izby Przyjęć</td>\n",
              "      <td>SOR/Izba Przyjęć</td>\n",
              "      <td>POWÓD ODMOWY  WYDANE DRUKI ne  Potwierdzam odb...</td>\n",
              "    </tr>\n",
              "    <tr>\n",
              "      <th>2</th>\n",
              "      <td>430518</td>\n",
              "      <td>430518_medicalDocumentatnionFile_2__0</td>\n",
              "      <td>Wyniki badań obrazowych</td>\n",
              "      <td>Wyniki badań obrazowych i histopatologicznych</td>\n",
              "      <td>zm  WP BP  NNP DPD o  ŁZA  LJ x Wojewódzki Szp...</td>\n",
              "    </tr>\n",
              "  </tbody>\n",
              "</table>\n",
              "</div>\n",
              "      <button class=\"colab-df-convert\" onclick=\"convertToInteractive('df-56c752d2-a980-4d8d-8637-84d574f5d2ca')\"\n",
              "              title=\"Convert this dataframe to an interactive table.\"\n",
              "              style=\"display:none;\">\n",
              "        \n",
              "  <svg xmlns=\"http://www.w3.org/2000/svg\" height=\"24px\"viewBox=\"0 0 24 24\"\n",
              "       width=\"24px\">\n",
              "    <path d=\"M0 0h24v24H0V0z\" fill=\"none\"/>\n",
              "    <path d=\"M18.56 5.44l.94 2.06.94-2.06 2.06-.94-2.06-.94-.94-2.06-.94 2.06-2.06.94zm-11 1L8.5 8.5l.94-2.06 2.06-.94-2.06-.94L8.5 2.5l-.94 2.06-2.06.94zm10 10l.94 2.06.94-2.06 2.06-.94-2.06-.94-.94-2.06-.94 2.06-2.06.94z\"/><path d=\"M17.41 7.96l-1.37-1.37c-.4-.4-.92-.59-1.43-.59-.52 0-1.04.2-1.43.59L10.3 9.45l-7.72 7.72c-.78.78-.78 2.05 0 2.83L4 21.41c.39.39.9.59 1.41.59.51 0 1.02-.2 1.41-.59l7.78-7.78 2.81-2.81c.8-.78.8-2.07 0-2.86zM5.41 20L4 18.59l7.72-7.72 1.47 1.35L5.41 20z\"/>\n",
              "  </svg>\n",
              "      </button>\n",
              "      \n",
              "  <style>\n",
              "    .colab-df-container {\n",
              "      display:flex;\n",
              "      flex-wrap:wrap;\n",
              "      gap: 12px;\n",
              "    }\n",
              "\n",
              "    .colab-df-convert {\n",
              "      background-color: #E8F0FE;\n",
              "      border: none;\n",
              "      border-radius: 50%;\n",
              "      cursor: pointer;\n",
              "      display: none;\n",
              "      fill: #1967D2;\n",
              "      height: 32px;\n",
              "      padding: 0 0 0 0;\n",
              "      width: 32px;\n",
              "    }\n",
              "\n",
              "    .colab-df-convert:hover {\n",
              "      background-color: #E2EBFA;\n",
              "      box-shadow: 0px 1px 2px rgba(60, 64, 67, 0.3), 0px 1px 3px 1px rgba(60, 64, 67, 0.15);\n",
              "      fill: #174EA6;\n",
              "    }\n",
              "\n",
              "    [theme=dark] .colab-df-convert {\n",
              "      background-color: #3B4455;\n",
              "      fill: #D2E3FC;\n",
              "    }\n",
              "\n",
              "    [theme=dark] .colab-df-convert:hover {\n",
              "      background-color: #434B5C;\n",
              "      box-shadow: 0px 1px 3px 1px rgba(0, 0, 0, 0.15);\n",
              "      filter: drop-shadow(0px 1px 2px rgba(0, 0, 0, 0.3));\n",
              "      fill: #FFFFFF;\n",
              "    }\n",
              "  </style>\n",
              "\n",
              "      <script>\n",
              "        const buttonEl =\n",
              "          document.querySelector('#df-56c752d2-a980-4d8d-8637-84d574f5d2ca button.colab-df-convert');\n",
              "        buttonEl.style.display =\n",
              "          google.colab.kernel.accessAllowed ? 'block' : 'none';\n",
              "\n",
              "        async function convertToInteractive(key) {\n",
              "          const element = document.querySelector('#df-56c752d2-a980-4d8d-8637-84d574f5d2ca');\n",
              "          const dataTable =\n",
              "            await google.colab.kernel.invokeFunction('convertToInteractive',\n",
              "                                                     [key], {});\n",
              "          if (!dataTable) return;\n",
              "\n",
              "          const docLinkHtml = 'Like what you see? Visit the ' +\n",
              "            '<a target=\"_blank\" href=https://colab.research.google.com/notebooks/data_table.ipynb>data table notebook</a>'\n",
              "            + ' to learn more about interactive tables.';\n",
              "          element.innerHTML = '';\n",
              "          dataTable['output_type'] = 'display_data';\n",
              "          await google.colab.output.renderOutput(dataTable, element);\n",
              "          const docLink = document.createElement('div');\n",
              "          docLink.innerHTML = docLinkHtml;\n",
              "          element.appendChild(docLink);\n",
              "        }\n",
              "      </script>\n",
              "    </div>\n",
              "  </div>\n",
              "  "
            ]
          },
          "metadata": {},
          "execution_count": 86
        }
      ]
    },
    {
      "cell_type": "code",
      "source": [
        "X_train, X_test, y_train, y_test, test_mask = split(df, test_fraction=0.1, grouping_var=\"case\", seed=1234, verbose=False)\n",
        "\n",
        "print(X_train.shape)\n",
        "print(X_test.shape)\n",
        "print(y_train.shape)\n",
        "print(y_test.shape)\n",
        "print(test_mask.shape)"
      ],
      "metadata": {
        "colab": {
          "base_uri": "https://localhost:8080/"
        },
        "id": "4AGjC9nzADsu",
        "outputId": "f6f121c9-256f-41ab-8d78-c7277605de80"
      },
      "execution_count": 87,
      "outputs": [
        {
          "output_type": "stream",
          "name": "stdout",
          "text": [
            "(779,)\n",
            "(88,)\n",
            "(779,)\n",
            "(88,)\n",
            "(867,)\n"
          ]
        }
      ]
    },
    {
      "cell_type": "code",
      "source": [
        "def get_embeding(x):\n",
        "    sentence = Sentence(str(x))\n",
        "    document_embeddings.embed(sentence)\n",
        "    return sentence.embedding.tolist()\n",
        "\n",
        "X_train_vec = pd.DataFrame(X_train.apply(get_embeding).tolist())\n",
        "X_test_vec = pd.DataFrame(X_test.apply(get_embeding).tolist())"
      ],
      "metadata": {
        "id": "h8JZb6bGCLw_"
      },
      "execution_count": null,
      "outputs": []
    },
    {
      "cell_type": "code",
      "source": [
        "print(X_train_vec.shape)\n",
        "print(X_test_vec.shape)\n",
        "print(y_train.shape)\n",
        "print(y_test.shape)"
      ],
      "metadata": {
        "colab": {
          "base_uri": "https://localhost:8080/"
        },
        "id": "cQcNxCT7DTO-",
        "outputId": "0e0f4eb8-18e5-4b53-dddd-6f6e43ba00cb"
      },
      "execution_count": 94,
      "outputs": [
        {
          "output_type": "stream",
          "name": "stdout",
          "text": [
            "(779, 300)\n",
            "(88, 300)\n",
            "(779,)\n",
            "(88,)\n"
          ]
        }
      ]
    },
    {
      "cell_type": "code",
      "source": [
        "from lightgbm import LGBMClassifier, plot_importance\n",
        "\n",
        "from sklearn.metrics import classification_report, confusion_matrix, ConfusionMatrixDisplay, accuracy_score\n",
        "from sklearn.feature_selection import SelectKBest, chi2\n",
        "import matplotlib.pyplot as plt"
      ],
      "metadata": {
        "id": "zlyMkxWbBALM"
      },
      "execution_count": 95,
      "outputs": []
    },
    {
      "cell_type": "code",
      "source": [
        "est = LGBMClassifier(n_estimators=50, random_state=1234).fit(X_train_vec, y_train)\n",
        "y_pred = est.predict(X_test_vec)\n",
        "\n",
        "accuracy_score(y_test, y_pred)"
      ],
      "metadata": {
        "colab": {
          "base_uri": "https://localhost:8080/"
        },
        "id": "5M3k0KnfAgGI",
        "outputId": "68fbe352-6118-4a31-8076-949d62cdb666"
      },
      "execution_count": 98,
      "outputs": [
        {
          "output_type": "execute_result",
          "data": {
            "text/plain": [
              "0.6590909090909091"
            ]
          },
          "metadata": {},
          "execution_count": 98
        }
      ]
    },
    {
      "cell_type": "code",
      "source": [
        "import tqdm"
      ],
      "metadata": {
        "id": "xEnsx8ZXBz4k"
      },
      "execution_count": 99,
      "outputs": []
    },
    {
      "cell_type": "markdown",
      "source": [
        "# Run models splitted by case_id"
      ],
      "metadata": {
        "id": "W86WmGA0EJUU"
      }
    },
    {
      "cell_type": "code",
      "source": [
        "RUNS = 20\n",
        "accuracies = []\n",
        "for seed in tqdm.tqdm(random.sample(range(0, 10000), RUNS)):\n",
        "    X_train, X_test, y_train, y_test, test_mask = split(df, test_fraction=0.1, grouping_var=\"case\", seed=seed, verbose=False)\n",
        "\n",
        "    X_train_vec = pd.DataFrame(X_train.apply(get_embeding).tolist())\n",
        "    X_test_vec = pd.DataFrame(X_test.apply(get_embeding).tolist())\n",
        "\n",
        "    est = LGBMClassifier(n_estimators=50, random_state=seed).fit(X_train_vec, y_train)\n",
        "    y_pred = est.predict(X_test_vec)\n",
        "\n",
        "    accuracies.append(accuracy_score(y_test, y_pred))\n",
        "\n",
        "print(\"Avg accuracy:\", round(np.mean(accuracies), 2))\n",
        "print([round(x, 2) for x in accuracies[-10:]])\n",
        "print(f\"Accuracy 1Q-3Q range: {round(np.quantile(accuracies, 0.25), 2)}-{round(np.quantile(accuracies, 0.75), 2)}\")\n",
        "\n"
      ],
      "metadata": {
        "colab": {
          "base_uri": "https://localhost:8080/"
        },
        "id": "XoUDqZQRDpbc",
        "outputId": "954b7734-0c1b-4e4c-de93-8d4b0233d5e4"
      },
      "execution_count": 103,
      "outputs": [
        {
          "output_type": "stream",
          "name": "stderr",
          "text": [
            "100%|██████████| 20/20 [08:49<00:00, 26.49s/it]"
          ]
        },
        {
          "output_type": "stream",
          "name": "stdout",
          "text": [
            "Avg accuracy: 0.67\n",
            "[0.69, 0.7, 0.64, 0.67, 0.59, 0.7, 0.65, 0.57, 0.67, 0.42]\n",
            "Accuracy 1Q-3Q range: 0.63-0.7\n"
          ]
        },
        {
          "output_type": "stream",
          "name": "stderr",
          "text": [
            "\n"
          ]
        }
      ]
    },
    {
      "cell_type": "markdown",
      "source": [
        "### Run models splitted by img_name"
      ],
      "metadata": {
        "id": "jWLj_JIfEMR0"
      }
    },
    {
      "cell_type": "code",
      "source": [
        "accuracies = []\n",
        "for seed in tqdm.tqdm(random.sample(range(0, 10000), RUNS)):\n",
        "    X_train, X_test, y_train, y_test, test_mask = split(df, test_fraction=0.1, grouping_var=\"img_name\", seed=seed, verbose=False)\n",
        "\n",
        "    X_train_vec = pd.DataFrame(X_train.apply(get_embeding).tolist())\n",
        "    X_test_vec = pd.DataFrame(X_test.apply(get_embeding).tolist())\n",
        "\n",
        "    est = LGBMClassifier(n_estimators=50, random_state=seed).fit(X_train_vec, y_train)\n",
        "    y_pred = est.predict(X_test_vec)\n",
        "\n",
        "    accuracies.append(accuracy_score(y_test, y_pred))\n",
        "\n",
        "print(\"Avg accuracy:\", round(np.mean(accuracies), 2))\n",
        "print([round(x, 2) for x in accuracies[-10:]])\n",
        "print(f\"Accuracy 1Q-3Q range: {round(np.quantile(accuracies, 0.25), 2)}-{round(np.quantile(accuracies, 0.75), 2)}\")"
      ],
      "metadata": {
        "colab": {
          "base_uri": "https://localhost:8080/"
        },
        "id": "w1fzTh2eEMqU",
        "outputId": "770df18d-9264-456d-a1cc-adfd75cb0d4f"
      },
      "execution_count": 104,
      "outputs": [
        {
          "output_type": "stream",
          "name": "stderr",
          "text": [
            "100%|██████████| 20/20 [08:50<00:00, 26.52s/it]"
          ]
        },
        {
          "output_type": "stream",
          "name": "stdout",
          "text": [
            "Avg accuracy: 0.75\n",
            "[0.83, 0.69, 0.76, 0.76, 0.85, 0.73, 0.64, 0.67, 0.77, 0.79]\n",
            "Accuracy 1Q-3Q range: 0.71-0.79\n"
          ]
        },
        {
          "output_type": "stream",
          "name": "stderr",
          "text": [
            "\n"
          ]
        }
      ]
    },
    {
      "cell_type": "markdown",
      "source": [
        "### More detailed evaluation"
      ],
      "metadata": {
        "id": "8qUWnOyGEXdv"
      }
    },
    {
      "cell_type": "code",
      "source": [
        "X_train, X_test, y_train, y_test, test_mask = split(df, test_fraction=0.1, grouping_var=\"img_name\", seed=1234, verbose=False)\n",
        "\n",
        "X_train_vec = pd.DataFrame(X_train.apply(get_embeding).tolist())\n",
        "X_test_vec = pd.DataFrame(X_test.apply(get_embeding).tolist())\n",
        "\n",
        "est = LGBMClassifier(n_estimators=50, random_state=seed).fit(X_train_vec, y_train)\n",
        "y_pred = est.predict(X_test_vec)\n",
        "\n",
        "print(classification_report(y_test, y_pred, zero_division=0))\n",
        "ConfusionMatrixDisplay.from_predictions(\n",
        "   pd.Series(y_test).str.slice(0,20), pd.Series(y_pred).str.slice(0,20), \n",
        "   xticks_rotation=90, labels=[x[0:20] for x in est.classes_], cmap=plt.cm.Blues)\n",
        "\n",
        "plt.show()\n",
        "plot_importance(est, figsize=(12, 9), max_num_features = 40, height=.9)"
      ],
      "metadata": {
        "colab": {
          "base_uri": "https://localhost:8080/",
          "height": 1000
        },
        "id": "T5FepoUqEX4s",
        "outputId": "690b346c-fd8a-4282-ec40-891f0ae6a56e"
      },
      "execution_count": 102,
      "outputs": [
        {
          "output_type": "stream",
          "name": "stdout",
          "text": [
            "                                                                              precision    recall  f1-score   support\n",
            "\n",
            "Historia zdrowia i choroby / historia choroby poradni specjalistycznej / POZ       0.72      0.97      0.82        29\n",
            "                                          Inne nieinteresujące - niemedyczne       1.00      0.75      0.86         4\n",
            "                                               Inne nieinteresujące medyczne       0.67      0.14      0.24        14\n",
            "                                                               Nierozpoznane       0.50      0.67      0.57         3\n",
            "                                                            SOR/Izba Przyjęć       1.00      0.57      0.73         7\n",
            "                               Wyniki badań obrazowych i histopatologicznych       1.00      1.00      1.00         5\n",
            "                                                           Wypis ze szpitala       0.87      0.95      0.91        21\n",
            "                                                     Zaświadczenie lekarskie       0.50      0.75      0.60         4\n",
            "\n",
            "                                                                    accuracy                           0.77        87\n",
            "                                                                   macro avg       0.78      0.72      0.72        87\n",
            "                                                                weighted avg       0.78      0.77      0.73        87\n",
            "\n"
          ]
        },
        {
          "output_type": "display_data",
          "data": {
            "text/plain": [
              "<Figure size 432x288 with 2 Axes>"
            ],
            "image/png": "[encoded data removed]"
          },
          "metadata": {
            "needs_background": "light"
          }
        },
        {
          "output_type": "execute_result",
          "data": {
            "text/plain": [
              "<matplotlib.axes._subplots.AxesSubplot at 0x7f276cb4c890>"
            ]
          },
          "metadata": {},
          "execution_count": 102
        },
        {
          "output_type": "display_data",
          "data": {
            "text/plain": [
              "<Figure size 864x648 with 1 Axes>"
            ],
            "image/png": "[encoded data removed]"
          },
          "metadata": {
            "needs_background": "light"
          }
        }
      ]
    }
  ]
}